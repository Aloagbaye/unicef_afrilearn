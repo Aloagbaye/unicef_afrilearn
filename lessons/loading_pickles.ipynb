{
 "cells": [
  {
   "cell_type": "code",
   "execution_count": 2,
   "id": "9ccecb58",
   "metadata": {},
   "outputs": [],
   "source": [
    "import pickle\n",
    "import pandas as pd"
   ]
  },
  {
   "cell_type": "code",
   "execution_count": 13,
   "id": "4566d27b",
   "metadata": {},
   "outputs": [],
   "source": [
    "school_dict = pickle.load(open(\"dictionary/school_level_dict.pkl\",'rb'))\n",
    "lesson_dict = pickle.load(open(\"dictionary/lesson_dict.pkl\",'rb'))"
   ]
  },
  {
   "cell_type": "code",
   "execution_count": 8,
   "id": "8904f08b",
   "metadata": {},
   "outputs": [],
   "source": [
    "school_dict['SSS One science'] = 'SSS One_science_model.pkl'\n",
    "school_dict['SSS One socialscience'] = 'SSS One_social_science_model.pkl'\n",
    "school_dict['SSS Two science'] = 'SSS Two_science_model.pkl'\n",
    "school_dict['SSS Two socialscience'] = 'SSS Two_social_science_model.pkl'\n",
    "school_dict['SSS Three science'] = 'SSS Three_science_model.pkl'\n",
    "school_dict['SSS Three socialscience'] = 'SSS Three_social_science_model.pkl'"
   ]
  },
  {
   "cell_type": "code",
   "execution_count": 9,
   "id": "a1318e59",
   "metadata": {},
   "outputs": [
    {
     "data": {
      "text/plain": [
       "'SSS One_model.pkl'"
      ]
     },
     "execution_count": 9,
     "metadata": {},
     "output_type": "execute_result"
    }
   ],
   "source": [
    "school_dict.pop('SSS One')"
   ]
  },
  {
   "cell_type": "code",
   "execution_count": 10,
   "id": "5a65f94e",
   "metadata": {},
   "outputs": [
    {
     "data": {
      "text/plain": [
       "'SSS Three_model.pkl'"
      ]
     },
     "execution_count": 10,
     "metadata": {},
     "output_type": "execute_result"
    }
   ],
   "source": [
    "school_dict.pop('SSS Two')\n",
    "school_dict.pop('SSS Three')"
   ]
  },
  {
   "cell_type": "code",
   "execution_count": 14,
   "id": "70f96205",
   "metadata": {},
   "outputs": [
    {
     "data": {
      "text/plain": [
       "{'Primary One': 'Primary One_model.pkl',\n",
       " 'Primary Two': 'Primary Two_model.pkl',\n",
       " 'Primary Three': 'Primary Three_model.pkl',\n",
       " 'Primary Four': 'Primary Four_model.pkl',\n",
       " 'Primary Five': 'Primary Five_model.pkl',\n",
       " 'Primary Six': 'Primary Six_model.pkl',\n",
       " 'JSS One': 'JSS One_model.pkl',\n",
       " 'JSS Two': 'JSS Two_model.pkl',\n",
       " 'JSS Three': 'JSS Three_model.pkl',\n",
       " 'Afrilearn Kids Code': 'Afrilearn Kids Code_model.pkl',\n",
       " 'SSS One science': 'SSS One_science_model.pkl',\n",
       " 'SSS One socialscience': 'SSS One_social_science_model.pkl',\n",
       " 'SSS Two science': 'SSS Two_science_model.pkl',\n",
       " 'SSS Two socialscience': 'SSS Two_social_science_model.pkl',\n",
       " 'SSS Three science': 'SSS Three_science_model.pkl',\n",
       " 'SSS Three socialscience': 'SSS Three_social_science_model.pkl'}"
      ]
     },
     "execution_count": 14,
     "metadata": {},
     "output_type": "execute_result"
    }
   ],
   "source": [
    "school_dict"
   ]
  },
  {
   "cell_type": "code",
   "execution_count": 12,
   "id": "9833bb6b",
   "metadata": {},
   "outputs": [],
   "source": [
    "pickle.dump(school_dict, open('school_level_dict.pkl','wb'))"
   ]
  },
  {
   "cell_type": "code",
   "execution_count": 5,
   "id": "f4bbd74b",
   "metadata": {},
   "outputs": [],
   "source": [
    "course_rec_rules= pickle.load(open(school_dict['SSS One'],'rb'))"
   ]
  },
  {
   "cell_type": "code",
   "execution_count": 6,
   "id": "20e6000e",
   "metadata": {},
   "outputs": [
    {
     "data": {
      "text/html": [
       "<div>\n",
       "<style scoped>\n",
       "    .dataframe tbody tr th:only-of-type {\n",
       "        vertical-align: middle;\n",
       "    }\n",
       "\n",
       "    .dataframe tbody tr th {\n",
       "        vertical-align: top;\n",
       "    }\n",
       "\n",
       "    .dataframe thead th {\n",
       "        text-align: right;\n",
       "    }\n",
       "</style>\n",
       "<table border=\"1\" class=\"dataframe\">\n",
       "  <thead>\n",
       "    <tr style=\"text-align: right;\">\n",
       "      <th></th>\n",
       "      <th>antecedents</th>\n",
       "      <th>consequents</th>\n",
       "      <th>antecedent support</th>\n",
       "      <th>consequent support</th>\n",
       "      <th>support</th>\n",
       "      <th>confidence</th>\n",
       "      <th>lift</th>\n",
       "      <th>leverage</th>\n",
       "      <th>conviction</th>\n",
       "    </tr>\n",
       "  </thead>\n",
       "  <tbody>\n",
       "    <tr>\n",
       "      <th>486</th>\n",
       "      <td>(Data Processing, Computer Science)</td>\n",
       "      <td>(Biology, Christian Religious Study)</td>\n",
       "      <td>0.010309</td>\n",
       "      <td>0.010309</td>\n",
       "      <td>0.010309</td>\n",
       "      <td>1.000000</td>\n",
       "      <td>97.000000</td>\n",
       "      <td>0.010203</td>\n",
       "      <td>inf</td>\n",
       "    </tr>\n",
       "    <tr>\n",
       "      <th>692</th>\n",
       "      <td>(Computer Science, Christian Religious Study, ...</td>\n",
       "      <td>(Data Processing, Geography)</td>\n",
       "      <td>0.010309</td>\n",
       "      <td>0.010309</td>\n",
       "      <td>0.010309</td>\n",
       "      <td>1.000000</td>\n",
       "      <td>97.000000</td>\n",
       "      <td>0.010203</td>\n",
       "      <td>inf</td>\n",
       "    </tr>\n",
       "    <tr>\n",
       "      <th>584</th>\n",
       "      <td>(Computer Science, Agricultural Science)</td>\n",
       "      <td>(Data Processing, Biology, Christian Religious...</td>\n",
       "      <td>0.010309</td>\n",
       "      <td>0.010309</td>\n",
       "      <td>0.010309</td>\n",
       "      <td>1.000000</td>\n",
       "      <td>97.000000</td>\n",
       "      <td>0.010203</td>\n",
       "      <td>inf</td>\n",
       "    </tr>\n",
       "    <tr>\n",
       "      <th>586</th>\n",
       "      <td>(Computer Science, Biology)</td>\n",
       "      <td>(Data Processing, Christian Religious Study, A...</td>\n",
       "      <td>0.010309</td>\n",
       "      <td>0.010309</td>\n",
       "      <td>0.010309</td>\n",
       "      <td>1.000000</td>\n",
       "      <td>97.000000</td>\n",
       "      <td>0.010203</td>\n",
       "      <td>inf</td>\n",
       "    </tr>\n",
       "    <tr>\n",
       "      <th>674</th>\n",
       "      <td>(Computer Science, Agricultural Science)</td>\n",
       "      <td>(Data Processing, Biology, Geography)</td>\n",
       "      <td>0.010309</td>\n",
       "      <td>0.010309</td>\n",
       "      <td>0.010309</td>\n",
       "      <td>1.000000</td>\n",
       "      <td>97.000000</td>\n",
       "      <td>0.010203</td>\n",
       "      <td>inf</td>\n",
       "    </tr>\n",
       "    <tr>\n",
       "      <th>...</th>\n",
       "      <td>...</td>\n",
       "      <td>...</td>\n",
       "      <td>...</td>\n",
       "      <td>...</td>\n",
       "      <td>...</td>\n",
       "      <td>...</td>\n",
       "      <td>...</td>\n",
       "      <td>...</td>\n",
       "      <td>...</td>\n",
       "    </tr>\n",
       "    <tr>\n",
       "      <th>44</th>\n",
       "      <td>(Chemistry)</td>\n",
       "      <td>(Further Mathematics)</td>\n",
       "      <td>0.103093</td>\n",
       "      <td>0.082474</td>\n",
       "      <td>0.010309</td>\n",
       "      <td>0.100000</td>\n",
       "      <td>1.212500</td>\n",
       "      <td>0.001807</td>\n",
       "      <td>1.019473</td>\n",
       "    </tr>\n",
       "    <tr>\n",
       "      <th>3</th>\n",
       "      <td>(Chemistry)</td>\n",
       "      <td>(Agricultural Science)</td>\n",
       "      <td>0.103093</td>\n",
       "      <td>0.082474</td>\n",
       "      <td>0.010309</td>\n",
       "      <td>0.100000</td>\n",
       "      <td>1.212500</td>\n",
       "      <td>0.001807</td>\n",
       "      <td>1.019473</td>\n",
       "    </tr>\n",
       "    <tr>\n",
       "      <th>2</th>\n",
       "      <td>(Agricultural Science)</td>\n",
       "      <td>(Chemistry)</td>\n",
       "      <td>0.082474</td>\n",
       "      <td>0.103093</td>\n",
       "      <td>0.010309</td>\n",
       "      <td>0.125000</td>\n",
       "      <td>1.212500</td>\n",
       "      <td>0.001807</td>\n",
       "      <td>1.025037</td>\n",
       "    </tr>\n",
       "    <tr>\n",
       "      <th>30</th>\n",
       "      <td>(Computer Science)</td>\n",
       "      <td>(Biology)</td>\n",
       "      <td>0.092784</td>\n",
       "      <td>0.092784</td>\n",
       "      <td>0.010309</td>\n",
       "      <td>0.111111</td>\n",
       "      <td>1.197531</td>\n",
       "      <td>0.001700</td>\n",
       "      <td>1.020619</td>\n",
       "    </tr>\n",
       "    <tr>\n",
       "      <th>31</th>\n",
       "      <td>(Biology)</td>\n",
       "      <td>(Computer Science)</td>\n",
       "      <td>0.092784</td>\n",
       "      <td>0.092784</td>\n",
       "      <td>0.010309</td>\n",
       "      <td>0.111111</td>\n",
       "      <td>1.197531</td>\n",
       "      <td>0.001700</td>\n",
       "      <td>1.020619</td>\n",
       "    </tr>\n",
       "  </tbody>\n",
       "</table>\n",
       "<p>804 rows × 9 columns</p>\n",
       "</div>"
      ],
      "text/plain": [
       "                                           antecedents  \\\n",
       "486                (Data Processing, Computer Science)   \n",
       "692  (Computer Science, Christian Religious Study, ...   \n",
       "584           (Computer Science, Agricultural Science)   \n",
       "586                        (Computer Science, Biology)   \n",
       "674           (Computer Science, Agricultural Science)   \n",
       "..                                                 ...   \n",
       "44                                         (Chemistry)   \n",
       "3                                          (Chemistry)   \n",
       "2                               (Agricultural Science)   \n",
       "30                                  (Computer Science)   \n",
       "31                                           (Biology)   \n",
       "\n",
       "                                           consequents  antecedent support  \\\n",
       "486               (Biology, Christian Religious Study)            0.010309   \n",
       "692                       (Data Processing, Geography)            0.010309   \n",
       "584  (Data Processing, Biology, Christian Religious...            0.010309   \n",
       "586  (Data Processing, Christian Religious Study, A...            0.010309   \n",
       "674              (Data Processing, Biology, Geography)            0.010309   \n",
       "..                                                 ...                 ...   \n",
       "44                               (Further Mathematics)            0.103093   \n",
       "3                               (Agricultural Science)            0.103093   \n",
       "2                                          (Chemistry)            0.082474   \n",
       "30                                           (Biology)            0.092784   \n",
       "31                                  (Computer Science)            0.092784   \n",
       "\n",
       "     consequent support   support  confidence       lift  leverage  conviction  \n",
       "486            0.010309  0.010309    1.000000  97.000000  0.010203         inf  \n",
       "692            0.010309  0.010309    1.000000  97.000000  0.010203         inf  \n",
       "584            0.010309  0.010309    1.000000  97.000000  0.010203         inf  \n",
       "586            0.010309  0.010309    1.000000  97.000000  0.010203         inf  \n",
       "674            0.010309  0.010309    1.000000  97.000000  0.010203         inf  \n",
       "..                  ...       ...         ...        ...       ...         ...  \n",
       "44             0.082474  0.010309    0.100000   1.212500  0.001807    1.019473  \n",
       "3              0.082474  0.010309    0.100000   1.212500  0.001807    1.019473  \n",
       "2              0.103093  0.010309    0.125000   1.212500  0.001807    1.025037  \n",
       "30             0.092784  0.010309    0.111111   1.197531  0.001700    1.020619  \n",
       "31             0.092784  0.010309    0.111111   1.197531  0.001700    1.020619  \n",
       "\n",
       "[804 rows x 9 columns]"
      ]
     },
     "execution_count": 6,
     "metadata": {},
     "output_type": "execute_result"
    }
   ],
   "source": [
    "course_rec_rules"
   ]
  },
  {
   "cell_type": "code",
   "execution_count": 29,
   "id": "a426d4de",
   "metadata": {},
   "outputs": [],
   "source": [
    "def recommend_first_course(course: str,subject:str,lesson:str):\n",
    "    school_dict = pickle.load(open(\"school_level_dict.pkl\",'rb'))\n",
    "    lesson_dict = pickle.load(open(\"lesson_dict.pkl\",'rb'))\n",
    "    course_rec_rules=  pickle.load(open(school_dict[course],'rb'))\n",
    "    recommendation_list = []\n",
    "    for i,courses in enumerate(course_rec_rules[\"antecedents\"]):\n",
    "        for j in list(courses):\n",
    "            if j == subject:\n",
    "                recommendation_list.append(list(course_rec_rules.iloc[i][\"consequents\"])[0])\n",
    "    recommendation_list = pd.DataFrame(recommendation_list).drop_duplicates()\n",
    "    recommendation= list(recommendation_list[0])\n",
    "    \n",
    "    lesson_rec_rules=  pickle.load(open(lesson_dict[recommendation[0]+'_'+course+'_1'],'rb'))\n",
    "    recommendation_list = []\n",
    "    if lesson:\n",
    "        for i,lessons in enumerate(lesson_rec_rules[\"antecedents\"]):\n",
    "            for j in list(lessons):\n",
    "                if j == lesson:\n",
    "                    recommendation_list.append(list(lesson_rec_rules.iloc[i][\"consequents\"])[0])\n",
    "        recommendation_list = pd.DataFrame(recommendation_list).drop_duplicates()\n",
    "        recommendation_list = list(recommendation_list[0])\n",
    "        recommendation = recommendation_list[0:5]\n",
    "        return recommendation\n",
    "\n",
    "    else:\n",
    "        print('no lesson to recommend')"
   ]
  },
  {
   "cell_type": "code",
   "execution_count": 30,
   "id": "c358c83f",
   "metadata": {},
   "outputs": [],
   "source": [
    "a = recommend_first_course(\"Primary One\",\"Agricultural Science\",\"6012c1afcfe09249249f7f10\")"
   ]
  },
  {
   "cell_type": "code",
   "execution_count": 28,
   "id": "faadfe4d",
   "metadata": {},
   "outputs": [
    {
     "data": {
      "text/plain": [
       "[0]"
      ]
     },
     "execution_count": 28,
     "metadata": {},
     "output_type": "execute_result"
    }
   ],
   "source": [
    "list(a)"
   ]
  },
  {
   "cell_type": "code",
   "execution_count": 31,
   "id": "00fd6670",
   "metadata": {},
   "outputs": [
    {
     "data": {
      "text/plain": [
       "['6012c1afcfe09249249f7f0e',\n",
       " '6012c1afcfe09249249f7f14',\n",
       " '6012c1b6cfe09249249f7f1c',\n",
       " '6012c1b6cfe09249249f7f18',\n",
       " '6012c1b6cfe09249249f7f20']"
      ]
     },
     "execution_count": 31,
     "metadata": {},
     "output_type": "execute_result"
    }
   ],
   "source": [
    "a"
   ]
  },
  {
   "cell_type": "code",
   "execution_count": null,
   "id": "08f4bb1d",
   "metadata": {},
   "outputs": [],
   "source": []
  }
 ],
 "metadata": {
  "kernelspec": {
   "display_name": "Python 3 (ipykernel)",
   "language": "python",
   "name": "python3"
  },
  "language_info": {
   "codemirror_mode": {
    "name": "ipython",
    "version": 3
   },
   "file_extension": ".py",
   "mimetype": "text/x-python",
   "name": "python",
   "nbconvert_exporter": "python",
   "pygments_lexer": "ipython3",
   "version": "3.9.7"
  }
 },
 "nbformat": 4,
 "nbformat_minor": 5
}
